{
 "cells": [
  {
   "cell_type": "markdown",
   "metadata": {},
   "source": [
    "## Model Fitting with Scikit-Learn"
   ]
  },
  {
   "cell_type": "code",
   "execution_count": 15,
   "metadata": {
    "collapsed": true
   },
   "outputs": [],
   "source": [
    "%matplotlib inline\n",
    "import matplotlib.pyplot as plt\n",
    "import numpy as np"
   ]
  },
  {
   "cell_type": "code",
   "execution_count": 29,
   "metadata": {
    "collapsed": true
   },
   "outputs": [],
   "source": [
    "from sklearn.linear_model import LinearRegression, Lasso"
   ]
  },
  {
   "cell_type": "code",
   "execution_count": 17,
   "metadata": {
    "collapsed": true
   },
   "outputs": [],
   "source": [
    "np.random.seed(3333)\n",
    "num_samples = 5\n",
    "\n",
    "true_a = 0.5\n",
    "true_b = 3.0\n",
    "true_c = 1.2\n",
    "X = np.linspace(-10, 10, 100)[:, None]\n",
    "Y = true_a + true_b*X + true_c*X**2 + 20*np.random.randn(100)[:,None]\n",
    "index = np.random.choice(range(X.shape[0]), num_samples)\n",
    "mask = np.isin(range(X.shape[0]), index)\n",
    "X_sample = X[mask]\n",
    "Y_sample = Y[mask]\n",
    "X_test = X[~mask]\n",
    "Y_test = Y[~mask]"
   ]
  },
  {
   "cell_type": "code",
   "execution_count": 30,
   "metadata": {},
   "outputs": [
    {
     "data": {
      "image/png": "[encoded data removed]",
      "text/plain": [
       "<matplotlib.figure.Figure at 0x116049f28>"
      ]
     },
     "metadata": {},
     "output_type": "display_data"
    }
   ],
   "source": [
    "plt.scatter(X_sample, Y_sample, s=12, c='b', label=\"data\")\n",
    "plt.legend(loc='upper left')\n",
    "fig = plt.gcf()\n",
    "fig.savefig(\"./images/linear_data.png\")"
   ]
  },
  {
   "cell_type": "markdown",
   "metadata": {},
   "source": [
    "## Overfitting"
   ]
  },
  {
   "cell_type": "code",
   "execution_count": 2,
   "metadata": {
    "collapsed": true
   },
   "outputs": [],
   "source": [
    "from sklearn.preprocessing import PolynomialFeatures"
   ]
  },
  {
   "cell_type": "code",
   "execution_count": 25,
   "metadata": {},
   "outputs": [
    {
     "data": {
      "image/png": "[encoded data removed]",
      "text/plain": [
       "<matplotlib.figure.Figure at 0x115e7bc50>"
      ]
     },
     "metadata": {},
     "output_type": "display_data"
    }
   ],
   "source": [
    "plt.scatter(X, Y, s=4, c='c', label=\"true data\")\n",
    "plt.legend(loc=\"upper left\")\n",
    "fig = plt.gcf()\n",
    "fig.savefig(\"./images/overfit_all_data.png\")"
   ]
  },
  {
   "cell_type": "code",
   "execution_count": 24,
   "metadata": {},
   "outputs": [
    {
     "data": {
      "image/png": "[encoded data removed]",
      "text/plain": [
       "<matplotlib.figure.Figure at 0x11601bb38>"
      ]
     },
     "metadata": {},
     "output_type": "display_data"
    }
   ],
   "source": [
    "plt.scatter(X_sample, Y_sample, s=12, c='b', label=\"sampled data\")\n",
    "plt.scatter(X_test, Y_test, s=4, c='c', label=\"test data\")\n",
    "plt.legend(loc='upper left')\n",
    "fig = plt.gcf()\n",
    "fig.savefig(\"./images/overfit_split_data.png\")"
   ]
  },
  {
   "cell_type": "code",
   "execution_count": 5,
   "metadata": {},
   "outputs": [
    {
     "data": {
      "text/plain": [
       "((5, 1), (5, 1))"
      ]
     },
     "execution_count": 5,
     "metadata": {},
     "output_type": "execute_result"
    }
   ],
   "source": [
    "X_sample.shape, Y_sample.shape"
   ]
  },
  {
   "cell_type": "code",
   "execution_count": 6,
   "metadata": {
    "collapsed": true
   },
   "outputs": [],
   "source": [
    "def fit_model(X, Y, degree=None):\n",
    "    if degree:\n",
    "        poly_feature = PolynomialFeatures(degree=degree, \n",
    "                                          include_bias=False)\n",
    "        X_train = poly_feature.fit_transform(X)\n",
    "    else:\n",
    "        X_train = X\n",
    "    Y_train = Y.copy()\n",
    "    model = LinearRegression()\n",
    "    model.fit(X_train, Y_train)\n",
    "    return model"
   ]
  },
  {
   "cell_type": "code",
   "execution_count": 7,
   "metadata": {},
   "outputs": [
    {
     "name": "stderr",
     "output_type": "stream",
     "text": [
      "/usr/local/lib/python3.6/site-packages/scipy/linalg/basic.py:1018: RuntimeWarning: internal gelsd driver lwork query error, required iwork dimension not returned. This is likely the result of LAPACK bug 0038, fixed in LAPACK 3.2.2 (released July 21, 2010). Falling back to 'gelss' driver.\n",
      "  warnings.warn(mesg, RuntimeWarning)\n"
     ]
    }
   ],
   "source": [
    "model_d4 = fit_model(X_sample, Y_sample, num_samples-1)\n",
    "model_d2 = fit_model(X_sample, Y_sample, 2)"
   ]
  },
  {
   "cell_type": "code",
   "execution_count": 8,
   "metadata": {},
   "outputs": [
    {
     "data": {
      "text/plain": [
       "(array([ 34.91293339]),\n",
       " array([[ 12.88003561,  -1.06233458,  -0.30357516,   0.03865172]]))"
      ]
     },
     "execution_count": 8,
     "metadata": {},
     "output_type": "execute_result"
    }
   ],
   "source": [
    "model_d4.intercept_, model_d4.coef_"
   ]
  },
  {
   "cell_type": "code",
   "execution_count": 10,
   "metadata": {},
   "outputs": [
    {
     "data": {
      "text/plain": [
       "(array([ 14.2387912]), array([[ 3.27020065,  0.81675069]]))"
      ]
     },
     "execution_count": 10,
     "metadata": {},
     "output_type": "execute_result"
    }
   ],
   "source": [
    "model_d2.intercept_, model_d2.coef_"
   ]
  },
  {
   "cell_type": "code",
   "execution_count": 9,
   "metadata": {},
   "outputs": [
    {
     "data": {
      "text/plain": [
       "<matplotlib.legend.Legend at 0x110555128>"
      ]
     },
     "execution_count": 9,
     "metadata": {},
     "output_type": "execute_result"
    },
    {
     "data": {
      "image/png": "[encoded data removed]",
      "text/plain": [
       "<matplotlib.figure.Figure at 0x11565c9e8>"
      ]
     },
     "metadata": {},
     "output_type": "display_data"
    }
   ],
   "source": [
    "x_ori = np.linspace(X_sample.min()-0.5, X_sample.max()+0.5, 50)\n",
    "x_d4 = PolynomialFeatures(degree=4, include_bias=False).fit_transform(x_ori[:,None])\n",
    "y_d4 = model_d4.predict(x_d4)\n",
    "x_d2 = PolynomialFeatures(degree=2, include_bias=False).fit_transform(x_ori[:,None])\n",
    "y_d2 = model_d2.predict(x_d2)\n",
    "plt.scatter(X_test, Y_test, s=4, c='r', label=\"test data\")\n",
    "plt.scatter(X_sample, Y_sample, s=12, c='b', label=\"train data\")\n",
    "plt.plot(x_ori, y_d2.flatten(), label=\"prediction (degree 2)\")\n",
    "plt.plot(x_ori, y_d4.flatten(), label=\"prediction (degree 4)\")\n",
    "plt.legend()"
   ]
  },
  {
   "cell_type": "markdown",
   "metadata": {},
   "source": [
    "## Pipeline"
   ]
  },
  {
   "cell_type": "code",
   "execution_count": 47,
   "metadata": {
    "collapsed": true
   },
   "outputs": [],
   "source": [
    "from sklearn.pipeline import Pipeline\n",
    "from sklearn.base import BaseEstimator"
   ]
  },
  {
   "cell_type": "code",
   "execution_count": 46,
   "metadata": {},
   "outputs": [
    {
     "name": "stdout",
     "output_type": "stream",
     "text": [
      "Pipeline of transforms with a final estimator.\n",
      "\n",
      "    Sequentially apply a list of transforms and a final estimator.\n",
      "    Intermediate steps of the pipeline must be 'transforms', that is, they\n",
      "    must implement fit and transform methods.\n",
      "    The final estimator only needs to implement fit.\n",
      "    The transformers in the pipeline can be cached using ``memory`` argument.\n",
      "\n",
      "    The purpose of the pipeline is to assemble several steps that can be\n",
      "    cross-validated together while setting different parameters.\n",
      "    For this, it enables setting parameters of the various steps using their\n",
      "    names and the parameter name separated by a '__', as in the example below.\n",
      "    A step's estimator may be replaced entirely by setting the parameter\n",
      "    with its name to another estimator, or a transformer removed by setting\n",
      "    to None.\n",
      "\n",
      "    Read more in the :ref:`User Guide <pipeline>`.\n",
      "\n",
      "    Parameters\n",
      "    ----------\n",
      "    steps : list\n",
      "        List of (name, transform) tuples (implementing fit/transform) that are\n",
      "        chained, in the order in which they are chained, with the last object\n",
      "        an estimator.\n",
      "\n",
      "    memory : Instance of sklearn.external.joblib.Memory or string, optional             (default=None)\n",
      "        Used to cache the fitted transformers of the pipeline. By default,\n",
      "        no caching is performed. If a string is given, it is the path to\n",
      "        the caching directory. Enabling caching triggers a clone of\n",
      "        the transformers before fitting. Therefore, the transformer\n",
      "        instance given to the pipeline cannot be inspected\n",
      "        directly. Use the attribute ``named_steps`` or ``steps`` to\n",
      "        inspect estimators within the pipeline. Caching the\n",
      "        transformers is advantageous when fitting is time consuming.\n",
      "\n",
      "    Attributes\n",
      "    ----------\n",
      "    named_steps : bunch object, a dictionary with attribute access\n",
      "        Read-only attribute to access any step parameter by user given name.\n",
      "        Keys are step names and values are steps parameters.\n",
      "\n",
      "    Examples\n",
      "    --------\n",
      "    >>> from sklearn import svm\n",
      "    >>> from sklearn.datasets import samples_generator\n",
      "    >>> from sklearn.feature_selection import SelectKBest\n",
      "    >>> from sklearn.feature_selection import f_regression\n",
      "    >>> from sklearn.pipeline import Pipeline\n",
      "    >>> # generate some data to play with\n",
      "    >>> X, y = samples_generator.make_classification(\n",
      "    ...     n_informative=5, n_redundant=0, random_state=42)\n",
      "    >>> # ANOVA SVM-C\n",
      "    >>> anova_filter = SelectKBest(f_regression, k=5)\n",
      "    >>> clf = svm.SVC(kernel='linear')\n",
      "    >>> anova_svm = Pipeline([('anova', anova_filter), ('svc', clf)])\n",
      "    >>> # You can set the parameters using the names issued\n",
      "    >>> # For instance, fit using a k of 10 in the SelectKBest\n",
      "    >>> # and a parameter 'C' of the svm\n",
      "    >>> anova_svm.set_params(anova__k=10, svc__C=.1).fit(X, y)\n",
      "    ...                      # doctest: +ELLIPSIS, +NORMALIZE_WHITESPACE\n",
      "    Pipeline(memory=None,\n",
      "             steps=[('anova', SelectKBest(...)),\n",
      "                    ('svc', SVC(...))])\n",
      "    >>> prediction = anova_svm.predict(X)\n",
      "    >>> anova_svm.score(X, y)                        # doctest: +ELLIPSIS\n",
      "    0.829...\n",
      "    >>> # getting the selected features chosen by anova_filter\n",
      "    >>> anova_svm.named_steps['anova'].get_support()\n",
      "    ... # doctest: +NORMALIZE_WHITESPACE\n",
      "    array([False, False,  True,  True, False, False, True,  True, False,\n",
      "           True,  False,  True,  True, False, True,  False, True, True,\n",
      "           False, False], dtype=bool)\n",
      "    >>> # Another way to get selected features chosen by anova_filter\n",
      "    >>> anova_svm.named_steps.anova.get_support()\n",
      "    ... # doctest: +NORMALIZE_WHITESPACE\n",
      "    array([False, False,  True,  True, False, False, True,  True, False,\n",
      "           True,  False,  True,  True, False, True,  False, True, True,\n",
      "           False, False], dtype=bool)\n",
      "    \n"
     ]
    }
   ],
   "source": [
    "print(Pipeline.__doc__)"
   ]
  },
  {
   "cell_type": "code",
   "execution_count": 56,
   "metadata": {
    "collapsed": true
   },
   "outputs": [],
   "source": [
    "poly_feature_d2 = PolynomialFeatures(degree=2, include_bias=False)\n",
    "poly_feature_d4 = PolynomialFeatures(degree=4, include_bias=False)\n",
    "pipe_d2 = Pipeline(steps=[(\"features_d2\", poly_feature_d2), (\"model\", LinearRegression())])\n",
    "pipe_d4 = Pipeline(steps=[(\"features_d4\", poly_feature_d4), (\"model\", LinearRegression())])"
   ]
  },
  {
   "cell_type": "code",
   "execution_count": 59,
   "metadata": {},
   "outputs": [
    {
     "data": {
      "text/plain": [
       "Pipeline(memory=None,\n",
       "     steps=[('features_d2', PolynomialFeatures(degree=2, include_bias=False, interaction_only=False)), ('model', LinearRegression(copy_X=True, fit_intercept=True, n_jobs=1, normalize=False))])"
      ]
     },
     "execution_count": 59,
     "metadata": {},
     "output_type": "execute_result"
    }
   ],
   "source": [
    "pipe_d2.fit(X_sample, Y_sample)"
   ]
  },
  {
   "cell_type": "code",
   "execution_count": 60,
   "metadata": {},
   "outputs": [
    {
     "data": {
      "text/plain": [
       "Pipeline(memory=None,\n",
       "     steps=[('features_d4', PolynomialFeatures(degree=4, include_bias=False, interaction_only=False)), ('model', LinearRegression(copy_X=True, fit_intercept=True, n_jobs=1, normalize=False))])"
      ]
     },
     "execution_count": 60,
     "metadata": {},
     "output_type": "execute_result"
    }
   ],
   "source": [
    "pipe_d4.fit(X_sample, Y_sample)"
   ]
  },
  {
   "cell_type": "code",
   "execution_count": 98,
   "metadata": {},
   "outputs": [
    {
     "data": {
      "text/plain": [
       "<matplotlib.legend.Legend at 0x113c0bc18>"
      ]
     },
     "execution_count": 98,
     "metadata": {},
     "output_type": "execute_result"
    },
    {
     "data": {
      "image/png": "[encoded data removed]",
      "text/plain": [
       "<matplotlib.figure.Figure at 0x113969b38>"
      ]
     },
     "metadata": {},
     "output_type": "display_data"
    }
   ],
   "source": [
    "x_ = np.linspace(X_sample.min()-0.5, X_sample.max()+0.5, 50)\n",
    "y_d2 = pipe_d2.predict(x_.reshape((-1, 1)))\n",
    "y_d4 = pipe_d4.predict(x_.reshape((-1, 1)))\n",
    "plt.scatter(X_test, Y_test, s=4, c='r', label=\"test data\")\n",
    "plt.scatter(X_sample, Y_sample, s=12, c='b', label=\"train data\")\n",
    "plt.plot(x_, y_d2.flatten(), label=\"prediction (degree 2)\")\n",
    "plt.plot(x_, y_d4.flatten(), label=\"prediction (degree 4)\")\n",
    "plt.legend()"
   ]
  },
  {
   "cell_type": "markdown",
   "metadata": {},
   "source": [
    "## Evaluation"
   ]
  },
  {
   "cell_type": "markdown",
   "metadata": {},
   "source": [
    "- [scoring](http://scikit-learn.org/stable/modules/model_evaluation.html#common-cases-predefined-values)"
   ]
  },
  {
   "cell_type": "code",
   "execution_count": 117,
   "metadata": {
    "collapsed": true
   },
   "outputs": [],
   "source": [
    "from sklearn.metrics import mean_squared_error, r2_score, make_scorer"
   ]
  },
  {
   "cell_type": "markdown",
   "metadata": {},
   "source": [
    "### In-Sample"
   ]
  },
  {
   "cell_type": "code",
   "execution_count": 90,
   "metadata": {},
   "outputs": [
    {
     "name": "stdout",
     "output_type": "stream",
     "text": [
      "Is model degree 2 better than model degree 4 (mean square error)?  No\n",
      "54.20 v.s 0.00\n"
     ]
    }
   ],
   "source": [
    "err_d2 = mean_squared_error(pipe_d2.predict(X_sample), Y_sample)\n",
    "err_d4 = mean_squared_error(pipe_d4.predict(X_sample), Y_sample)\n",
    "print(\"Is model degree 2 better than model degree 4 (mean square error)? \",\n",
    "      err_d2 < err_d4 and \"Yes\" or \"No\")\n",
    "print(\"{:.2f} v.s {:.2f}\".format(err_d2, err_d4))"
   ]
  },
  {
   "cell_type": "code",
   "execution_count": 91,
   "metadata": {},
   "outputs": [
    {
     "name": "stdout",
     "output_type": "stream",
     "text": [
      "Is model degree 2 better than model degree 4 (R^2)?  No\n",
      "0.97 v.s 1.00\n"
     ]
    }
   ],
   "source": [
    "r2_d2 = r2_score(pipe_d2.predict(X_sample), Y_sample)\n",
    "r2_d4 = r2_score(pipe_d4.predict(X_sample), Y_sample)\n",
    "print(\"Is model degree 2 better than model degree 4 (R^2)? \",\n",
    "      r2_d2 >= r2_d4 and \"Yes\" or \"No\")\n",
    "print(\"{:.2f} v.s {:.2f}\".format(r2_d2, r2_d4))"
   ]
  },
  {
   "cell_type": "markdown",
   "metadata": {},
   "source": [
    "### Out-Sample"
   ]
  },
  {
   "cell_type": "code",
   "execution_count": 92,
   "metadata": {},
   "outputs": [
    {
     "name": "stdout",
     "output_type": "stream",
     "text": [
      "Is model degree 2 better than model degree 4 (mean square error)?  Yes\n",
      "606.88 v.s 10006.30\n"
     ]
    }
   ],
   "source": [
    "err_d2 = mean_squared_error(pipe_d2.predict(X_test), Y_test)\n",
    "err_d4 = mean_squared_error(pipe_d4.predict(X_test), Y_test)\n",
    "print(\"Is model degree 2 better than model degree 4 (mean square error)? \",\n",
    "      err_d2 < err_d4 and \"Yes\" or \"No\")\n",
    "print(\"{:.2f} v.s {:.2f}\".format(err_d2, err_d4))"
   ]
  },
  {
   "cell_type": "code",
   "execution_count": 95,
   "metadata": {},
   "outputs": [
    {
     "name": "stdout",
     "output_type": "stream",
     "text": [
      "Is model degree 2 better than model degree 4 (R^2)?  Yes\n",
      "0.36 v.s -0.04\n"
     ]
    }
   ],
   "source": [
    "r2_d2 = r2_score(pipe_d2.predict(X_test), Y_test)\n",
    "r2_d4 = r2_score(pipe_d4.predict(X_test), Y_test)\n",
    "print(\"Is model degree 2 better than model degree 4 (R^2)? \",\n",
    "      r2_d2 >= r2_d4 and \"Yes\" or \"No\")\n",
    "print(\"{:.2f} v.s {:.2f}\".format(r2_d2, r2_d4))"
   ]
  },
  {
   "cell_type": "markdown",
   "metadata": {},
   "source": [
    "## Model Selection with Pipeline"
   ]
  },
  {
   "cell_type": "code",
   "execution_count": 102,
   "metadata": {
    "collapsed": true
   },
   "outputs": [],
   "source": [
    "from sklearn.model_selection import GridSearchCV"
   ]
  },
  {
   "cell_type": "code",
   "execution_count": 136,
   "metadata": {
    "collapsed": true
   },
   "outputs": [],
   "source": [
    "np.random.seed(3333)\n",
    "num_samples = 20\n",
    "\n",
    "index = np.random.choice(range(X.shape[0]), num_samples)\n",
    "mask = np.isin(range(X.shape[0]), index)\n",
    "X_sample = X[mask]\n",
    "Y_sample = Y[mask]\n",
    "X_test = X[~mask]\n",
    "Y_test = Y[~mask]"
   ]
  },
  {
   "cell_type": "code",
   "execution_count": 142,
   "metadata": {},
   "outputs": [
    {
     "data": {
      "text/plain": [
       "((18, 1), (18, 1))"
      ]
     },
     "execution_count": 142,
     "metadata": {},
     "output_type": "execute_result"
    }
   ],
   "source": [
    "X_sample.shape, Y_sample.shape"
   ]
  },
  {
   "cell_type": "code",
   "execution_count": 173,
   "metadata": {
    "collapsed": true
   },
   "outputs": [],
   "source": [
    "pipe = Pipeline(steps=[(\"poly_feature\", PolynomialFeatures(degree=3, include_bias=False)),\n",
    "                       (\"model\", LinearRegression())])"
   ]
  },
  {
   "cell_type": "code",
   "execution_count": 181,
   "metadata": {
    "collapsed": true
   },
   "outputs": [],
   "source": [
    "param_grid = dict(poly_feature__degree=[1, 2, 3, 4],\n",
    "                  model__normalize=[False, True])"
   ]
  },
  {
   "cell_type": "code",
   "execution_count": 182,
   "metadata": {
    "collapsed": true
   },
   "outputs": [],
   "source": [
    "searcher = GridSearchCV(pipe, param_grid=param_grid, \n",
    "                        scoring=make_scorer(mean_squared_error, \n",
    "                                            greater_is_better=False),\n",
    "                        verbose=True)"
   ]
  },
  {
   "cell_type": "code",
   "execution_count": 183,
   "metadata": {},
   "outputs": [
    {
     "name": "stdout",
     "output_type": "stream",
     "text": [
      "Fitting 3 folds for each of 8 candidates, totalling 24 fits\n"
     ]
    },
    {
     "name": "stderr",
     "output_type": "stream",
     "text": [
      "[Parallel(n_jobs=1)]: Done  24 out of  24 | elapsed:    0.1s finished\n"
     ]
    },
    {
     "data": {
      "text/plain": [
       "GridSearchCV(cv=None, error_score='raise',\n",
       "       estimator=Pipeline(memory=None,\n",
       "     steps=[('poly_feature', PolynomialFeatures(degree=3, include_bias=False, interaction_only=False)), ('model', LinearRegression(copy_X=True, fit_intercept=True, n_jobs=1, normalize=False))]),\n",
       "       fit_params=None, iid=True, n_jobs=1,\n",
       "       param_grid={'poly_feature__degree': [1, 2, 3, 4], 'model__normalize': [False, True]},\n",
       "       pre_dispatch='2*n_jobs', refit=True, return_train_score=True,\n",
       "       scoring=make_scorer(mean_squared_error, greater_is_better=False),\n",
       "       verbose=True)"
      ]
     },
     "execution_count": 183,
     "metadata": {},
     "output_type": "execute_result"
    }
   ],
   "source": [
    "searcher.fit(X_sample, Y_sample)"
   ]
  },
  {
   "cell_type": "code",
   "execution_count": 184,
   "metadata": {},
   "outputs": [
    {
     "data": {
      "text/plain": [
       "Pipeline(memory=None,\n",
       "     steps=[('poly_feature', PolynomialFeatures(degree=3, include_bias=False, interaction_only=False)), ('model', LinearRegression(copy_X=True, fit_intercept=True, n_jobs=1, normalize=False))])"
      ]
     },
     "execution_count": 184,
     "metadata": {},
     "output_type": "execute_result"
    }
   ],
   "source": [
    "searcher.estimator.fit(X_sample, Y_sample)"
   ]
  },
  {
   "cell_type": "code",
   "execution_count": 185,
   "metadata": {
    "collapsed": true
   },
   "outputs": [],
   "source": [
    "best_model = searcher.best_estimator_"
   ]
  },
  {
   "cell_type": "code",
   "execution_count": 186,
   "metadata": {
    "collapsed": true
   },
   "outputs": [],
   "source": [
    "y_ = searcher.estimator.predict(X_test)\n",
    "Y_ = best_model.predict(X_test)"
   ]
  },
  {
   "cell_type": "code",
   "execution_count": 187,
   "metadata": {},
   "outputs": [
    {
     "data": {
      "text/plain": [
       "<matplotlib.legend.Legend at 0x114f35c88>"
      ]
     },
     "execution_count": 187,
     "metadata": {},
     "output_type": "execute_result"
    },
    {
     "data": {
      "image/png": "[encoded data removed]",
      "text/plain": [
       "<matplotlib.figure.Figure at 0x114dda6a0>"
      ]
     },
     "metadata": {},
     "output_type": "display_data"
    }
   ],
   "source": [
    "plt.scatter(X_test, Y_test, label=\"test data\", s=8)\n",
    "plt.scatter(X_test, y_, label=\"prediciton (origin)\", s=8)\n",
    "plt.scatter(X_test, Y_, label=\"prediction (best)\", s=8)\n",
    "plt.legend()"
   ]
  },
  {
   "cell_type": "markdown",
   "metadata": {},
   "source": [
    "## What Else Can I Use in a Pipeline?"
   ]
  },
  {
   "cell_type": "code",
   "execution_count": 58,
   "metadata": {},
   "outputs": [
    {
     "name": "stdout",
     "output_type": "stream",
     "text": [
      "Is poly_feature a BaseEstimator? Yes\n",
      "Is LinearRegression() a BaseEstimator? Yes\n",
      "Is pipe a BaseEstimator? Yes\n",
      "Is r2_score a BaseEstimator? No\n"
     ]
    }
   ],
   "source": [
    "print(\"Is poly_feature a BaseEstimator?\", isinstance(poly_feature, BaseEstimator) and \"Yes\" or \"No\")\n",
    "print(\"Is LinearRegression() a BaseEstimator?\", isinstance(pipe_d2.named_steps[\"model\"], BaseEstimator) and \"Yes\" or \"No\")\n",
    "print(\"Is pipe a BaseEstimator?\", isinstance(pipe, BaseEstimator) and \"Yes\" or \"No\")\n",
    "print(\"Is r2_score a BaseEstimator?\", isinstance(r2_score, BaseEstimator) and \"Yes\" or \"No\")"
   ]
  },
  {
   "cell_type": "code",
   "execution_count": null,
   "metadata": {
    "collapsed": true
   },
   "outputs": [],
   "source": []
  },
  {
   "cell_type": "code",
   "execution_count": null,
   "metadata": {
    "collapsed": true
   },
   "outputs": [],
   "source": []
  }
 ],
 "metadata": {
  "kernelspec": {
   "display_name": "Python 3",
   "language": "python",
   "name": "python3"
  },
  "language_info": {
   "codemirror_mode": {
    "name": "ipython",
    "version": 3
   },
   "file_extension": ".py",
   "mimetype": "text/x-python",
   "name": "python",
   "nbconvert_exporter": "python",
   "pygments_lexer": "ipython3",
   "version": "3.6.2"
  }
 },
 "nbformat": 4,
 "nbformat_minor": 2
}
